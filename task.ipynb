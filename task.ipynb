{
 "cells": [
  {
   "cell_type": "code",
   "execution_count": 47,
   "metadata": {},
   "outputs": [],
   "source": [
    "import pandas as pd"
   ]
  },
  {
   "cell_type": "code",
   "execution_count": 53,
   "metadata": {},
   "outputs": [],
   "source": [
    "def read_csv(file, separator):\n",
    "    df = pd.read_csv(file,  sep=separator, quotechar='\"', engine='python', on_bad_lines='skip')\n",
    "    return df\n",
    "\n",
    "def clean_df(df,dropped_columns):\n",
    "    clean_df = df.drop(dropped_columns,axis=1)\n",
    "    for col in clean_df.columns:\n",
    "        clean_df[col] = clean_df[col].apply(lambda x: str(x).strip().lower() if isinstance(x,str) else x)\n",
    "    clean_df['phone'] = pd.to_numeric(clean_df['phone'],downcast='integer',errors='coerce')\n",
    "    return clean_df"
   ]
  },
  {
   "cell_type": "code",
   "execution_count": 56,
   "metadata": {},
   "outputs": [],
   "source": [
    "facebook_dataset = './datasets/facebook_dataset.csv'\n",
    "df_facebook = read_csv(facebook_dataset, ',')\n",
    "\n",
    "google_dataset = './datasets/google_dataset.csv'\n",
    "df_google = read_csv(google_dataset, ',')\n",
    "\n",
    "website_dataset = './datasets/website_dataset.csv'\n",
    "df_website = read_csv(website_dataset, ';')\n",
    "\n",
    "facebook_dropped_columns = ['country_code', 'description', 'link', 'page_type', 'phone_country_code', 'region_code', 'zip_code']\n",
    "google_dropped_columns = ['country_code', 'phone_country_code', 'raw_address', 'raw_phone', 'region_code', 'text', 'zip_code']\n",
    "website_dropped_columns = ['domain_suffix', 'language', 'tld']\n",
    "\n",
    "df_facebook_clean = clean_df(df_facebook,facebook_dropped_columns)\n",
    "df_google_clean = clean_df(df_google,google_dropped_columns)\n",
    "df_website_clean = clean_df(df_website, website_dropped_columns)\n",
    "\n",
    "\n",
    "df_website_clean.rename(columns={'root_domain': 'domain'}, inplace=True)"
   ]
  },
  {
   "cell_type": "code",
   "execution_count": 65,
   "metadata": {},
   "outputs": [
    {
     "name": "stdout",
     "output_type": "stream",
     "text": [
      "Index(['address_facebook', 'category', 'city_facebook',\n",
      "       'country_name_facebook', 'name_facebook', 'phone',\n",
      "       'region_name_facebook', 'domain', 'address_google', 'categories',\n",
      "       'city_google', 'country_name_google', 'email', 'name_google',\n",
      "       'region_name_google'],\n",
      "      dtype='object')\n"
     ]
    }
   ],
   "source": [
    "df_google_facebook = df_google_clean.merge(df_facebook_clean, on=['domain','phone'], how='outer')\n",
    "df_google_facebook.columns = [col.replace(\"_x\",\"_facebook\").replace(\"_y\",\"_google\") for col in  df_google_facebook.columns]\n",
    "\n",
    "print(df_google_facebook.columns)"
   ]
  },
  {
   "cell_type": "code",
   "execution_count": 77,
   "metadata": {},
   "outputs": [],
   "source": [
    "df_merged = df_google_facebook.merge(df_website_clean, on=['domain','phone'], how='outer')"
   ]
  },
  {
   "cell_type": "code",
   "execution_count": 79,
   "metadata": {},
   "outputs": [],
   "source": [
    "reordered_columns = ['domain','phone',\n",
    "                     'legal_name','site_name','name_facebook','name_google',\n",
    "                     's_category','category','categories','email',\n",
    "                     'main_country','country_name_facebook','country_name_google',\n",
    "                     'main_city','city_facebook','city_google',\n",
    "                     'main_region','region_name_facebook','region_name_google',\n",
    "                     'address_facebook','address_google']\n",
    "df_merged = df_merged[reordered_columns]"
   ]
  },
  {
   "cell_type": "code",
   "execution_count": 80,
   "metadata": {},
   "outputs": [],
   "source": [
    "df_merged.to_csv(\"./results/merged_dataset.csv\",index=False)"
   ]
  }
 ],
 "metadata": {
  "kernelspec": {
   "display_name": "Python 3",
   "language": "python",
   "name": "python3"
  },
  "language_info": {
   "codemirror_mode": {
    "name": "ipython",
    "version": 3
   },
   "file_extension": ".py",
   "mimetype": "text/x-python",
   "name": "python",
   "nbconvert_exporter": "python",
   "pygments_lexer": "ipython3",
   "version": "3.10.0"
  }
 },
 "nbformat": 4,
 "nbformat_minor": 2
}
